{
 "cells": [
  {
   "cell_type": "code",
   "execution_count": 3,
   "metadata": {
    "collapsed": true
   },
   "outputs": [],
   "source": [
    "import os"
   ]
  },
  {
   "cell_type": "code",
   "execution_count": 2,
   "metadata": {
    "collapsed": false
   },
   "outputs": [
    {
     "data": {
      "text/plain": [
       "['.ipynb_checkpoints',\n",
       " '__init___5.py',\n",
       " '__pycache__',\n",
       " 'EBrit_main_5.py',\n",
       " 'eTreeWork',\n",
       " 'Interface.pyc',\n",
       " 'Interface_5.py',\n",
       " 'Script_Modules_5.py',\n",
       " 'Untitled.ipynb']"
      ]
     },
     "execution_count": 2,
     "metadata": {},
     "output_type": "execute_result"
    }
   ],
   "source": [
    "os.listdir(\"/Users/lulinghuang/Desktop/2017 DSC/eb_project_debug/py_splitXML_Version_5_debug\")"
   ]
  },
  {
   "cell_type": "code",
   "execution_count": 4,
   "metadata": {
    "collapsed": true
   },
   "outputs": [],
   "source": [
    "from bs4 import BeautifulSoup"
   ]
  },
  {
   "cell_type": "code",
   "execution_count": 5,
   "metadata": {
    "collapsed": true
   },
   "outputs": [],
   "source": [
    "import codecs"
   ]
  },
  {
   "cell_type": "code",
   "execution_count": 6,
   "metadata": {
    "collapsed": true
   },
   "outputs": [],
   "source": [
    "singleTEI_r2 = codecs.open(os.path.join(\"/Users/lulinghuang/Desktop/2017 DSC/eb_project_debug/debug_091217_eb11_r02/2-tei\", \"170911-eb11-r02-0001.xml\"), 'r', encoding='utf-8').read()"
   ]
  },
  {
   "cell_type": "code",
   "execution_count": 12,
   "metadata": {
    "collapsed": true
   },
   "outputs": [],
   "source": [
    "singleTEI_soup_r2 = BeautifulSoup(singleTEI_r2, \"lxml-xml\")"
   ]
  },
  {
   "cell_type": "code",
   "execution_count": 15,
   "metadata": {
    "collapsed": true
   },
   "outputs": [],
   "source": [
    "singleTEI_09r2 = codecs.open(os.path.join(\"/Users/lulinghuang/Desktop/2017 DSC/eb_project_debug/debug_090117_eb09_r02/2-tei\", \"170711-eb09-r02-0001.xml\"), 'r', encoding='utf-8').read()"
   ]
  },
  {
   "cell_type": "code",
   "execution_count": 16,
   "metadata": {
    "collapsed": true
   },
   "outputs": [],
   "source": [
    "singleTEI_soup_09r2 = BeautifulSoup(singleTEI_09r2, \"lxml-xml\")"
   ]
  },
  {
   "cell_type": "code",
   "execution_count": 13,
   "metadata": {
    "collapsed": true
   },
   "outputs": [],
   "source": [
    "invalid_tags = ['body', 'fileDesc', 'teiHeader', 'text', 'lb', 'TEI', 'titleStmt', 'title', 'author', 'publicationStmt', 'sourceDesc','p/']\n",
    "for tag in invalid_tags: \n",
    "    for match in singleTEI_soup_r2.findAll(tag):\n",
    "        match.replaceWithChildren()\n",
    "invalid_hi_tags = ['font4', 'font3', 'font2', 'font1', 'font0', 'italic']\n",
    "for tag in invalid_hi_tags: \n",
    "    for match in singleTEI_soup_r2.find_all(rend = tag):\n",
    "        match.unwrap()\n",
    "page_r2 = singleTEI_soup_r2.prettify(formatter = None)"
   ]
  },
  {
   "cell_type": "code",
   "execution_count": 19,
   "metadata": {
    "collapsed": true
   },
   "outputs": [],
   "source": [
    "invalid_tags = ['body', 'fileDesc', 'teiHeader', 'text', 'lb', 'TEI', 'titleStmt', 'title', 'author', 'publicationStmt', 'sourceDesc','p/']\n",
    "for tag in invalid_tags: \n",
    "    for match in singleTEI_soup_09r2.findAll(tag):\n",
    "        match.replaceWithChildren()\n",
    "invalid_hi_tags = ['font4', 'font3', 'font2', 'font1', 'font0', 'italic']\n",
    "for tag in invalid_hi_tags: \n",
    "    for match in singleTEI_soup_09r2.find_all(rend = tag):\n",
    "        match.unwrap()\n",
    "page_09r2 = singleTEI_soup_09r2.prettify(formatter = None)"
   ]
  },
  {
   "cell_type": "code",
   "execution_count": 20,
   "metadata": {
    "collapsed": false
   },
   "outputs": [
    {
     "name": "stdout",
     "output_type": "stream",
     "text": [
      "<?xml version=\"1.0\" encoding=\"utf-8\"?>\n",
      "<p/>\n",
      "<p>\n",
      " translated from HTML to TEI\n",
      "</p>\n",
      "<p>\n",
      " with six others being imprisoned for life. The ten who were executed at Charing Cross or Tyburn, London, in October 1660, were Thomas Harrison, John Jones, Adrian Scrope, John Carew, Thomas Scot, and Gregory Clement, who had signed the death-warrant; the preacher Hugh Peters; Francis Hacker and Daniel Axtel, who commanded the soldiers at the trial and the execution of the king; and John Cook, the solicitor who directed the prosecution. In January 1661 the bodies of Cromwell, lreton, ana Bradshaw were exhumed and hanged at Tyburn, but Pride’s does not appear to have been treated in this way. Of the nineteen or twenty regicides who had escaped and were living abroad, three, Sir John Barkstead, John Okey and Miles Corbet, were arrested in Holland and executed in London in April 1662; and one, John Lisle, was murdered at Lausanne. The last survivor of the regicides was probably Edmund Ludlow, who died at Vevey in 1692.\n",
      "</p>\n",
      "<p>\n",
      " Ludlow’s\n",
      " Memoirs\n",
      " , edited by C. H. Firth (Oxford, 1894), give interesting details about the regicides in exile. See also D. Masson,\n",
      " Life of Milton,\n",
      " vol. vi. (1880), and M. Noble,\n",
      " Lives of the English Regicides\n",
      " (1798).    (A. W. H.*)\n",
      "</p>\n",
      "<p>\n",
      " REGILLUS, an ancient lake of Latium, Italy, famous in the legendary histo\n",
      " r\n",
      " y of Rome as the lake in the neighbourhood of which occu\n",
      " rr\n",
      " ed (496 b.c.) the battle which finally decided the hegemony of Rome in Latium. During the battle, so runs the story, the dictator Postumius vowed a temple to Castor and Pollux, who were specially venerated in Tusculum, the chief city of the Latins (it being a Roman usage to invoke the aid of the gods of the enemy), who appeared during the battle, and b\n",
      " r\n",
      " ought the news of the victo\n",
      " r\n",
      " y to Rome, watering thei\n",
      " r\n",
      " ho\n",
      " r\n",
      " ses at the sp\n",
      " r\n",
      " ing of Juturna, close to which their temple in the Forum was erected. There can be little doubt that the lake actually existed. Of the various identifications proposed, the best is that of Nibby, who finds it in a now d\n",
      " r\n",
      " y c\n",
      " r\n",
      " ater lake (Pantano Secco), drained by an\n",
      " emissarium,\n",
      " the date of which is unce\n",
      " r\n",
      " tain, some\n",
      " 2 m.\n",
      " N. of Frascati. Along the south bank of the lake, at some 30 or 40 ft. above the present bottom, ran the aqueducts of the Aqua Claudia and Anio Novus. Most of the other sites p\n",
      " r\n",
      " oposed are not, as Regillus should be, within the limits of the te\n",
      " rr\n",
      " itory of Tusculum.\n",
      "</p>\n",
      "<p>\n",
      " See T. Ashby in\n",
      " Rendiconti dei Lincei\n",
      " (1898), 103 sqq., and\n",
      " Cla\n",
      " ss\n",
      " ical Review,\n",
      " 1898.    (T.\n",
      " As.)\n",
      "</p>\n",
      "<p>\n",
      " REGIMENT (from Late Latin\n",
      " regimenlum,\n",
      " rule,\n",
      " regere,\n",
      " to rule, govern, direct), originally government, command or authority exercised over others, or the office of a ruler or sovereign; in this sense the word was common in the 16th century. The most familiar instance is the title of the tract of John Knox, the\n",
      " First Blast of the Trumpet against the Monstrous Regiment of Women.\n",
      " The term as applied to a large body of troops dates from the French army of the 16th century. In the first instance it implied “ command,” as nowadays we speak of “ General A’s command,” meaning the whole number of troops under his command. The early regiments had no similarity in strength or organization, except that each was under one commander. With the regularization of armies the commands of all such superior officers were gradually reduced to uniformity, and a regiment came to be definitely a colonel’s command. In the British infantry the term has no tactical significance, as the number of battalions in a regiment is variable, and one at least is theoretically abroad at all times, while the reserve or territorial battalions serve under a different code to that governing the regular battalions. The whole corps of Royal Artillery is called “ the Royal Regiment of Artillery.” In the cavalry a regiment is tactically as well as administratively a unit of four squadrons. On the continent of Europe the regiment of infantry is always together under the command of its colonel, and consists of three or four battalions under majors or lieutenant-colonels.\n",
      "</p>\n",
      "<p>\n",
      " REGINA, the capital city of the province of Saskatchewan, Canada, situated at 104° 36' W. and 50° 27' N., and 357 m. W. of Winnipeg. Pop. (1907) 9804. After the Canadian Pacific railway was completed in 1885, the necessity for a place of government on the railway line pressed itself upon the Dominion government. The North-West Territories were but little settled then, but a central position on the prairies was necessary, where the mounted police might be stationed and where the numerous Indian bands might be easily reached. The minister\n",
      " of\n",
      " the interior at Ottawa, afterwards Governor Dewdney, chose this spot, and for a number of years Regina was the seat of the Territorial government. The governor took up his abode on the adjoining plain, and the North-West Council met each year, with a show of constitutional government about it. On the formation of the province of Saskatchewan in 1905 the choice of capital was left to the first legislature of the province. Prince Albert, Moose Jaw and Saskatoon all advanced claims, but Regina was decided on as the capital. It probably doubled in population between 1905 and 1907. Its public buildings, churches and residences are worthy of a place of greater pretensions. It is the centre for a rich agricultural district, and for legislation, education, law and other public benefits. It remains the headquarters of the mounted police for the western provinces, and near it is an Indian industrial school of some note.\n",
      "</p>\n",
      "<p>\n",
      " REGINON, or Regino of Prüm, medieval chronicler, was born at Altripp near Spires, and was educated in the monastery of Prüm. Here he became a monk, and in 892, just after the monastery had been sacked by the Danes, he was chosen abbot. In 899, however, he was deprived of this position and he went to Trier, where he was appointed abbot of St Martin’s, a house which he reformed. He died in 915, and was buried in the abbey of St Maximin at Trier, his tomb being discovered there in 1581.\n",
      "</p>\n",
      "<p>\n",
      " Reginon wrote a\n",
      " Chronicon,\n",
      " dedicated to Adalberon, bishop of Augsburg (d. 909), which deals with the history of the world from the commencement of the Christian era to 906, especially the history of affairs in Lorraine and the neighbourhood. The first book (to 741) consists mainly of extracts from Bede, Paulps Diaconus and other writers; of the second book (741-906) the latter part is original and valuable, although the chronology is at fault and the author relied chiefly upon tradition and hearsay for his information. The work was continued to 967 by a monk of Trier, possibly Adalbert, archbishop of Magdeburg (d. 981). The chronicle was first published at Mainz in 1521; another edition is in Band I. of the\n",
      " Monumental\n",
      " Germaniae historica. Scriptores\n",
      " (1826); the best is the one edited by F. Kurze (Hanover, 1890). It has been translated into German by W. Wattehbach (Leipzig, 1890). Reginon also drew up at the request of his friend and patron Radbod, archbishop of Trier (d. 915), a collection of canons,\n",
      " Libri duo de Synodalibus causis et disciplinis ecclesiasticis,\n",
      " dedicated to Hatto I., archbishop of Mainz; this is published in Tome 132 of J.\n",
      " P.\n",
      " Migne’s\n",
      " Patrologia Latina.\n",
      " To Radbod he wrote a letter on music,\n",
      " Epistola de harmonica institutione.\n",
      " with a\n",
      " Tonarius,\n",
      " the object of this being to improve the singing in the churches of the diocese. The letter is published in Tome I. of Gerbert’s\n",
      " Scriptores ecclesiastici de musica sacra\n",
      " (1784), and the\n",
      " Tonarius\n",
      " in Tome II. of Coussemakeris\n",
      " Scriptores de musica medii aevi.\n",
      " See also H. Ermisch,\n",
      " Die Chronik des Regino bis 813\n",
      " (Gottingen, 1872) ; P. Schulz,\n",
      " Die Glaubwürdigkeit des Abtes Reginolvon Prum\n",
      " (Hamburg, 1894); C. Wawra,\n",
      " De Reginone Prumensis\n",
      " (Breslau, 1901); A. AIolinier,\n",
      " Les Sources de Vhzstoire de Prance\n",
      " <hi rend=\"sub\">\n",
      "  1\n",
      " </hi>\n",
      " Tome\n",
      " I.\n",
      " (1901); and W. Wattenbach,\n",
      " DeutschlandsGeschichtsquellen,\n",
      " Band I. (1904).\n",
      "</p>\n",
      "<p>\n",
      " REGIOMONTANUS (1436-1476), German astronomer, was born at Königsberg in Franconia on the 6th of June 1436. The son of a miller, his name originally was Johann Müller, but he called himself, from his birthplace, Joh. de Monteregio, an appellation Which became graduallymodified Into Regiomontanus. At Vienna, from 1452, he was the pupil and associate of George Purbach (1423-1461), and they jointly undertook a reform of astronomy rendered necessary by the errors they detected in the Alphonsine Tables. In this they were much hindered by the lack of correct translations of Ptolemy’s works; and in 1462 Regiomontanus accompanied Cardinal Bessarion to Italy in search of authentic manuscripts. He rapidly mastered Greek at Rome and Ferrara, lectured on Alfraganus at Padua, and completed at Venice in 1463 Purbach’s\n",
      " Epitome in Cl. Ptolemaei magnam compositionem\n",
      " (printed at Vemce in 1496), and his own\n",
      " De Triangulis\n",
      " (Nuremberg, 1533), the earliest work treating of trigonometry as a Suhstantive science. A quarrel with George of Trebizond, the blunders in whose translation of the\n",
      " Almagest\n",
      " he had pointed out, obliged him to quit Rome precipitately in 1468. He repaired to Vienna, and was thence summoned to Buda by Matthias Corvinus, king of Hungary, for the purpose of collating Greek manuscripts at a handsome salary. He also finished his\n",
      " Tabulae Direclionum\n",
      " (Nuremberg, 1475), essentially an astrological work, but containing a valuable table of tangents. An outbreak of war, meanwhile, diverted\n",
      "</p>\n",
      "\n"
     ]
    }
   ],
   "source": [
    "print (page_r2)"
   ]
  },
  {
   "cell_type": "code",
   "execution_count": 21,
   "metadata": {
    "collapsed": false
   },
   "outputs": [
    {
     "name": "stdout",
     "output_type": "stream",
     "text": [
      "<?xml version=\"1.0\" encoding=\"utf-8\"?>\n",
      "<p/>\n",
      "<p>\n",
      " translated from HTML to TEI\n",
      "</p>\n",
      "<p>\n",
      " a number of genera but failed in the attempt to arrange them in a natural or logical system. All the more remarkable, therefore, is the production by IL Schlegel of an\n",
      " Essai surla Physionomie des Serpens\n",
      " (Leyden, 1837; ‘2 vols. 8vo, with atlas in fol.). In this classical work the whole of the subject is treated throughout in a scientific manner ; the species are described with a clear discernment of really distinctive characters, the description being generally accompanied with a faithful outline figure of the head, and with a critical examination of the literature. Schlegel, besides, has the merit of having recognized the great importance of exactness with regard to localities, and of giving a general account of the geographical distribution of Snakes. The principle of classification adopted by Schlegel, indeed, is not one which will be recognized as final or even as legitimate at the present time, but it is one which is preferable to that employed by Müller, Duméril, and Bibron, which led, as we shall see presently, to the most artificial grouping of species. He divided the Snakes into families according to their “ physiognomy,” that is “ Pimpression totale que fait sur nous l’ensemble d’un être quelconque, impression que Pon peut sentir, mais qu’il est impossible de rendre au moyen de paroles ; elle est le résultat de l’harmonie de toutes les parties isolées, dont on embrasse la confirmation d’un coup d’oeil, et dans leurs rapports mutuels.” Schlegel had no training in, or knowledge of, anatomy; he, therefore, ignored Müller’s researches which appeared a few years before his work ; yet it is noteworthy that his classification stands in the main, and has not yet been superseded. He divides Snakes as follows :—\n",
      "</p>\n",
      "<p>\n",
      " I.    Non-venomous Snakes.\n",
      "</p>\n",
      "<p>\n",
      " Fam. 1. Burrowing.\n",
      "</p>\n",
      "<p>\n",
      " Gen.\n",
      " Tortrix.\n",
      "</p>\n",
      "<p>\n",
      " Fam. 2. Worm-like.\n",
      "</p>\n",
      "<p>\n",
      " Gen.\n",
      " Calamaria.\n",
      "</p>\n",
      "<p>\n",
      " Fam. 3. Terrestrial.\n",
      "</p>\n",
      "<p>\n",
      " Gen.\n",
      " Coronella, Xenodon, Heterodon, Lycodon, Coluber, Herpetodryas, Psammophis.\n",
      "</p>\n",
      "<p>\n",
      " Fam. 4. Arboreal.\n",
      "</p>\n",
      "<p>\n",
      " Gen.\n",
      " Dendrophis, Dryophis, Divisas.\n",
      "</p>\n",
      "<p>\n",
      " Fam. 5. Freshwater.\n",
      "</p>\n",
      "<p>\n",
      " Gen.\n",
      " Tropidonotus, Homalopsis.\n",
      "</p>\n",
      "<p>\n",
      " Fam. 6. Boas.\n",
      "</p>\n",
      "<p>\n",
      " Gen.\n",
      " Boa, Python, Acrochordus.\n",
      "</p>\n",
      "<p>\n",
      " II.    Venomous Snakes.\n",
      "</p>\n",
      "<p>\n",
      " Fam. 7. Colubriform.\n",
      "</p>\n",
      "<p>\n",
      " Gen.\n",
      " Εlaps, Bungamis, Naja.\n",
      "</p>\n",
      "<p>\n",
      " Fam. 8. Marine.\n",
      "</p>\n",
      "<p>\n",
      " Gen.\n",
      " Hydrophis.\n",
      "</p>\n",
      "<p>\n",
      " Fam. 9. Venomous Snakes proper.\n",
      "</p>\n",
      "<p>\n",
      " Gen.\n",
      " Trigonocephalus, Crotalus, Vipera.\n",
      "</p>\n",
      "<p>\n",
      " Already in 1832 J. Müller had proposed “a natural classification of Snakes on anatomical principles,”@@\n",
      " <hi rend=\"sup\">\n",
      "  1\n",
      " </hi>\n",
      " in which he paid particular attention to the osteology of the hitherto dubious forms of Ophidians, but in the end based his arrangement entirely on the structure of the jaws and on the dentition. As he did not extend his examination into other parts of the organization of the various genera, it may suffice here to state that he divided all Snakes into two sections, the first of which\n",
      " (Ophidia microstomata)\n",
      " comprised the four families\n",
      " Amphisbænoidea, Typhlopina, Uropeltacea,\n",
      " and\n",
      " Tortricina,\n",
      " and the second\n",
      " (Ophidia macrostomata)\n",
      " all the other Snakes, which he referred to seven families.\n",
      "</p>\n",
      "<p>\n",
      " The direction thus indicated by Müller was followed by Dumeril and Bibron, who, however, by their much more detailed knowledge of Snakes, were enabled to subdivide the unwieldy categories formed by Müller ; also the genera which in Schlegel's system comprised Snakes with very different dentition had to be subdivided, and were defined with greater precision than had been done by any\n",
      "</p>\n",
      "<p>\n",
      " previous herpetologist. They divide Snakes into five equivalent sections @@\n",
      " <hi rend=\"sup\">\n",
      "  2\n",
      " </hi>\n",
      " :—\n",
      "</p>\n",
      "<p>\n",
      " 1.    Opotérodontes. Teeth in one of .the jaws only : 2 families\n",
      "</p>\n",
      "<p>\n",
      " and 8 genera.\n",
      "</p>\n",
      "<p>\n",
      " 2.    Aglyphodontes. Teeth in both jaws, none grooved: 12 families\n",
      "</p>\n",
      "<p>\n",
      " and 86 genera.\n",
      "</p>\n",
      "<p>\n",
      " 3.    Opisthoglyphes. Posterior maxillary teeth grooved: 6 families\n",
      "</p>\n",
      "<p>\n",
      " and 37 genera.\n",
      "</p>\n",
      "<p>\n",
      " 4.    ProtéRog\n",
      " <hi rend=\"bold\">\n",
      "  LYPHES.\n",
      " </hi>\n",
      " Anterior maxillary tooth grooved and fol\n",
      "</p>\n",
      "<p>\n",
      " lowed by other smooth teeth : 2 families and 16 genera.\n",
      "</p>\n",
      "<p>\n",
      " 5.    Solénoglyphes. Anterior maxillary teeth perforated and iso\n",
      "</p>\n",
      "<p>\n",
      " lated : 2 families and 13 genera.\n",
      "</p>\n",
      "<p>\n",
      " The progress made in ophiology from the time of the appearance of this work down to the present period consists rather in the increase of our knowledge of the great variety of species and genera than in the further development of the system. Gray, Reinhardt, Peters, Günther, Cope, Bocage, Jan, Krefft, and others described a large number of forms, so that the number of those known to Duméril and Bibron has now been perhaps trebled or quadrupled. Unfortunately, no general work corresponding to the present state of science exists. But two works published subsequently to the\n",
      " Erpétologie générale\n",
      " are indispensable to the student.\n",
      "</p>\n",
      "<p>\n",
      " The first is the\n",
      " Catalogue of the Specimens of Snakes in the Collection of the British Museum,\n",
      " of which the first part, containing the Viperine Snakes, Water-Snakes, and Boas, by J. E. Gray, appeared in 1849, and the second, containing the Colubrines, by A. Günther in 1858. The classification, which was much behind its time, was fixed by the former of the two authors, so that the latter had to accommodate the arrangement of his part to that of his predecessor. However, he strongly opposed the application of the character of grooved posterior teeth to the formation of large sections, and generally adopted the principle advocated by Schlegel, whose generic groups were raised into families. A great number of Snakes unknown to Duméril are described in these catalogues, whilst others which happened not to be represented in the British Museum are omitted.\n",
      "</p>\n",
      "<p>\n",
      " G. Jan in his\n",
      " Elenco Sistematico degli Ofidi descritti e disegnati per l'Iconografia generale\n",
      " (Milan, 1863, 8vo) generally adopts the families created by Günther, but institutes under each two divisions,\n",
      " Aglyphodonta\n",
      " and\n",
      " Glyphodonta.\n",
      " Jan’s great merit is the publication of his\n",
      " Iconographie générale des Ophidiens\n",
      " (Milan, 1860-76@@\n",
      " <hi rend=\"sup\">\n",
      "  3\n",
      " </hi>\n",
      " ), in which he figures all species which were in the Milan Museum or lent to him by other institutions, and which thus forms an invaluable aid in the determination of species. The author died during the progress of the work, but it was continued by his artist, Sordelli. No descriptive letter-press worthy of the name accompanies this work.\n",
      "</p>\n",
      "<p>\n",
      " The anatomy of Ophidians has hitherto received less attention than that of the other Reptilian orders. Besides the information contained in general works, we refer here only to two important special treatises :—\n",
      "</p>\n",
      "<p>\n",
      " Ratlike,\n",
      " Entwicklungsgeschichte der Natter,\n",
      " Königsberg, 1839, 4to ; and Parker,\n",
      " On the Structure and Development of the Skull in the Common Snake (Tropidonotus natrix),\n",
      " London, 1879, 4to.\n",
      "</p>\n",
      "<p>\n",
      " Chelonians.—\n",
      " Of ante-Cuvierian authors who paid special attention to this suborder the following deserve special mention :—J. G. Walbaum,@@\n",
      " <hi rend=\"sup\">\n",
      "  4\n",
      " </hi>\n",
      " J. G. Schneider,@@\n",
      " <hi rend=\"sup\">\n",
      "  5\n",
      " </hi>\n",
      " J. D. Schoepf,@@\n",
      " <hi rend=\"sup\">\n",
      "  6\n",
      " </hi>\n",
      " and A. F. Schweigger.@@\n",
      " <hi rend=\"sup\">\n",
      "  7\n",
      " </hi>\n",
      " Five or six\n",
      "</p>\n",
      "<p>\n",
      " @@@\n",
      " <hi rend=\"sup\"/>\n",
      " Tiedemann’s\n",
      " Zeitschr. f. Physiologie,\n",
      " vol. iv. p. 263\n",
      " sq.\n",
      "</p>\n",
      "<p>\n",
      " @@@\n",
      " <hi rend=\"sup\">\n",
      "  2\n",
      " </hi>\n",
      " Duméril changed the nomenclature adopted in his sixth volume when, eight years afterwards, he published the seventh after the death of Bibron. We give here the revised nomenclature.\n",
      "</p>\n",
      "<p>\n",
      " @@@\n",
      " <hi rend=\"sup\">\n",
      "  3\n",
      " </hi>\n",
      " The latest parts were issued without date between 1876 and 1882.\n",
      "</p>\n",
      "<p>\n",
      " @@@\n",
      " <hi rend=\"sup\">\n",
      "  4\n",
      " </hi>\n",
      " Chelonographia, oder Beschreibung einiger Schildkröten,\n",
      " Lübeck, 1782, 4to.\n",
      "</p>\n",
      "<p>\n",
      " @@@\n",
      " <hi rend=\"sup\">\n",
      "  5\n",
      " </hi>\n",
      " Allgemeine Naturgeschichte der Schildkröten,\n",
      " Leipsic, 1783, 8vo.\n",
      "</p>\n",
      "<p>\n",
      " @@@\n",
      " <hi rend=\"sup\">\n",
      "  6\n",
      " </hi>\n",
      " Historia TestuAinum iconibus illustrata,\n",
      " Erlangen, 1792-1801,\n",
      "</p>\n",
      "<p>\n",
      " 4to (left incomplete by the death of the author).\n",
      "</p>\n",
      "<p>\n",
      " @@@\n",
      " <hi rend=\"sup\">\n",
      "  7\n",
      " </hi>\n",
      " Prodromi Monographise Cheloniorum sect, la et 2a,\n",
      " Königsberg, 1814, 8vo.\n",
      "</p>\n",
      "\n"
     ]
    }
   ],
   "source": [
    "print (page_09r2)"
   ]
  },
  {
   "cell_type": "code",
   "execution_count": 23,
   "metadata": {
    "collapsed": false
   },
   "outputs": [],
   "source": [
    "import re\n",
    "pattern1 = re.compile(r'(<p>)?(\\s)?(<sup>)?(\\s)?@{3}(\\s)?(\\d+)?(\\s)?(</sup>)?')"
   ]
  },
  {
   "cell_type": "code",
   "execution_count": 24,
   "metadata": {
    "collapsed": false
   },
   "outputs": [
    {
     "data": {
      "text/plain": [
       "re.compile(r'(<p>)?(\\s)?(<sup>)?(\\s)?@{3}(\\s)?(\\d+)?(\\s)?(</sup>)?',\n",
       "re.UNICODE)"
      ]
     },
     "execution_count": 24,
     "metadata": {},
     "output_type": "execute_result"
    }
   ],
   "source": [
    "pattern1"
   ]
  },
  {
   "cell_type": "code",
   "execution_count": 25,
   "metadata": {
    "collapsed": true
   },
   "outputs": [],
   "source": [
    "listref = pattern1.split(page_09r2,1)"
   ]
  },
  {
   "cell_type": "code",
   "execution_count": 26,
   "metadata": {
    "collapsed": false
   },
   "outputs": [
    {
     "data": {
      "text/plain": [
       "['<?xml version=\"1.0\" encoding=\"utf-8\"?>\\n<p/>\\n<p>\\n translated from HTML to TEI\\n</p>\\n<p>\\n a number of genera but failed in the attempt to arrange them in a natural or logical system. All the more remarkable, therefore, is the production by IL Schlegel of an\\n Essai surla Physionomie des Serpens\\n (Leyden, 1837; ‘2 vols.\\xa08vo, with atlas in fol.). In this classical work the whole of\\xa0the subject is treated throughout in a scientific manner ; the\\xa0species are described with a clear discernment of really distinctive characters, the description being generally accompanied with a faithful outline figure of the head, and with\\xa0a critical examination of the literature. Schlegel, besides,\\xa0has the merit of having recognized the great importance of\\xa0exactness with regard to localities, and of giving a general\\xa0account of the geographical distribution of Snakes. The\\xa0principle of classification adopted by Schlegel, indeed, is\\xa0not one which will be recognized as final or even as\\xa0legitimate at the present time, but it is one which is preferable to that employed by Müller, Duméril, and Bibron,\\xa0which led, as we shall see presently, to the most artificial\\xa0grouping of species. He divided the Snakes into families\\xa0according to their “ physiognomy,” that is “ Pimpression\\xa0totale que fait sur nous l’ensemble d’un être quelconque,\\xa0impression que Pon peut sentir, mais qu’il est impossible\\xa0de rendre au moyen de paroles ; elle est le résultat de\\xa0l’harmonie de toutes les parties isolées, dont on embrasse\\xa0la confirmation d’un coup d’oeil, et dans leurs rapports\\xa0mutuels.” Schlegel had no training in, or knowledge of,\\xa0anatomy; he, therefore, ignored Müller’s researches which\\xa0appeared a few years before his work ; yet it is noteworthy that his classification stands in the main, and\\xa0has not yet been superseded. He divides Snakes as\\xa0follows :—\\n</p>\\n<p>\\n I. \\xa0\\xa0\\xa0Non-venomous Snakes.\\n</p>\\n<p>\\n Fam. 1. Burrowing.\\n</p>\\n<p>\\n Gen.\\n Tortrix.\\n</p>\\n<p>\\n Fam. 2. Worm-like.\\n</p>\\n<p>\\n Gen.\\n Calamaria.\\n</p>\\n<p>\\n Fam. 3. Terrestrial.\\n</p>\\n<p>\\n Gen.\\n Coronella, Xenodon, Heterodon, Lycodon, Coluber, Herpetodryas, Psammophis.\\n</p>\\n<p>\\n Fam. 4. Arboreal.\\n</p>\\n<p>\\n Gen.\\n Dendrophis, Dryophis, Divisas.\\n</p>\\n<p>\\n Fam. 5. Freshwater.\\n</p>\\n<p>\\n Gen.\\n Tropidonotus, Homalopsis.\\n</p>\\n<p>\\n Fam. 6. Boas.\\n</p>\\n<p>\\n Gen.\\n Boa, Python, Acrochordus.\\n</p>\\n<p>\\n II. \\xa0\\xa0\\xa0Venomous Snakes.\\n</p>\\n<p>\\n Fam. 7. Colubriform.\\n</p>\\n<p>\\n Gen.\\n Εlaps, Bungamis, Naja.\\n</p>\\n<p>\\n Fam. 8. Marine.\\n</p>\\n<p>\\n Gen.\\n Hydrophis.\\n</p>\\n<p>\\n Fam. 9. Venomous Snakes proper.\\n</p>\\n<p>\\n Gen.\\n Trigonocephalus, Crotalus, Vipera.\\n</p>\\n<p>\\n Already in 1832 J. Müller had proposed “a natural classification of Snakes on anatomical principles,”@@\\n <hi rend=\"sup\">\\n  1\\n </hi>\\n in\\xa0which he paid particular attention to the osteology of\\xa0the hitherto dubious forms of Ophidians, but in the end\\xa0based his arrangement entirely on the structure of the\\xa0jaws and on the dentition. As he did not extend his\\xa0examination into other parts of the organization of the\\xa0various genera, it may suffice here to state that he divided\\xa0all Snakes into two sections, the first of which\\n (Ophidia\\xa0microstomata)\\n comprised the four families\\n Amphisbænoidea,\\xa0Typhlopina, Uropeltacea,\\n and\\n Tortricina,\\n and the second\\n (Ophidia macrostomata)\\n all the other Snakes, which he\\xa0referred to seven families.\\n</p>\\n<p>\\n The direction thus indicated by Müller was followed by Dumeril and Bibron, who, however, by their much more\\xa0detailed knowledge of Snakes, were enabled to subdivide\\xa0the unwieldy categories formed by Müller ; also the\\xa0genera which in Schlegel\\'s system comprised Snakes with\\xa0very different dentition had to be subdivided, and were\\xa0defined with greater precision than had been done by any\\n</p>\\n<p>\\n previous herpetologist. They divide Snakes into five equivalent sections @@\\n <hi rend=\"sup\">\\n  2\\n </hi>\\n :—\\n</p>\\n<p>\\n 1. \\xa0\\xa0\\xa0Opotérodontes. Teeth in one of .the jaws only : 2 families\\n</p>\\n<p>\\n and 8 genera.\\n</p>\\n<p>\\n 2. \\xa0\\xa0\\xa0Aglyphodontes. Teeth in both jaws, none grooved: 12 families\\n</p>\\n<p>\\n and 86 genera.\\n</p>\\n<p>\\n 3. \\xa0\\xa0\\xa0Opisthoglyphes. Posterior maxillary teeth grooved: 6 families\\n</p>\\n<p>\\n and 37 genera.\\n</p>\\n<p>\\n 4. \\xa0\\xa0\\xa0ProtéRog\\n <hi rend=\"bold\">\\n  LYPHES.\\n </hi>\\n Anterior maxillary tooth grooved and fol\\n</p>\\n<p>\\n lowed by other smooth teeth : 2 families and 16 genera.\\n</p>\\n<p>\\n 5. \\xa0\\xa0\\xa0Solénoglyphes. Anterior maxillary teeth perforated and iso\\n</p>\\n<p>\\n lated : 2 families and 13 genera.\\n</p>\\n<p>\\n The progress made in ophiology from the time of the appearance of this work down to the present period\\xa0consists rather in the increase of our knowledge of the\\xa0great variety of species and genera than in the further\\xa0development of the system. Gray, Reinhardt, Peters,\\xa0Günther, Cope, Bocage, Jan, Krefft, and others described\\xa0a large number of forms, so that the number of those\\xa0known to Duméril and Bibron has now been perhaps\\xa0trebled or quadrupled. Unfortunately, no general work\\xa0corresponding to the present state of science exists. But\\xa0two works published subsequently to the\\n Erpétologie\\xa0générale\\n are indispensable to the student.\\n</p>\\n<p>\\n The first is the\\n Catalogue of the Specimens of Snakes in the Collection of the British Museum,\\n of which the first\\xa0part, containing the Viperine Snakes, Water-Snakes, and\\xa0Boas, by J. E. Gray, appeared in 1849, and the second,\\xa0containing the Colubrines, by A. Günther in 1858. The\\xa0classification, which was much behind its time, was fixed\\xa0by the former of the two authors, so that the latter had\\xa0to accommodate the arrangement of his part to that of\\xa0his predecessor. However, he strongly opposed the\\xa0application of the character of grooved posterior teeth to\\xa0the formation of large sections, and generally adopted the\\xa0principle advocated by Schlegel, whose generic groups were\\xa0raised into families. A great number of Snakes unknown\\xa0to Duméril are described in these catalogues, whilst others\\xa0which happened not to be represented in the British\\xa0Museum are omitted.\\n</p>\\n<p>\\n G. Jan in his\\n Elenco Sistematico degli Ofidi descritti e disegnati per l\\'Iconografia generale\\n (Milan, 1863, 8vo) generally adopts the families created by Günther, but institutes\\xa0under each two divisions,\\n Aglyphodonta\\n and\\n Glyphodonta.\\n Jan’s great merit is the publication of his\\n Iconographie\\xa0générale des Ophidiens\\n (Milan, 1860-76@@\\n <hi rend=\"sup\">\\n  3\\n </hi>\\n ), in which he\\xa0figures all species which were in the Milan Museum or\\xa0lent to him by other institutions, and which thus forms\\xa0an invaluable aid in the determination of species. The\\xa0author died during the progress of the work, but it was\\xa0continued by his artist, Sordelli. No descriptive letter-press worthy of the name accompanies this work.\\n</p>\\n<p>\\n The anatomy of Ophidians has hitherto received less attention than that of the other Reptilian orders. Besides the information contained in general works, we\\xa0refer here only to two important special treatises :—\\n</p>\\n<p>\\n Ratlike,\\n Entwicklungsgeschichte der Natter,\\n Königsberg, 1839, 4to ; and Parker,\\n On the Structure and Development of the Skull in\\xa0the Common Snake (Tropidonotus natrix),\\n London, 1879, 4to.\\n</p>\\n<p>\\n Chelonians.—\\n Of ante-Cuvierian authors who paid special attention to this suborder the following deserve\\xa0special mention :—J. G. Walbaum,@@\\n <hi rend=\"sup\">\\n  4\\n </hi>\\n J. G. Schneider,@@\\n <hi rend=\"sup\">\\n  5\\n </hi>\\n J. D. Schoepf,@@\\n <hi rend=\"sup\">\\n  6\\n </hi>\\n and A. F. Schweigger.@@\\n <hi rend=\"sup\">\\n  7\\n </hi>\\n Five or six\\n</p>\\n',\n",
       " '<p>',\n",
       " '\\n',\n",
       " None,\n",
       " ' ',\n",
       " '\\n',\n",
       " None,\n",
       " ' ',\n",
       " None,\n",
       " '<hi rend=\"sup\"/>\\n Tiedemann’s\\n Zeitschr. f. Physiologie,\\n vol. iv. p. 263\\n sq.\\n</p>\\n<p>\\n @@@\\n <hi rend=\"sup\">\\n  2\\n </hi>\\n Duméril changed the nomenclature adopted in his sixth volume\\xa0when, eight years afterwards, he published the seventh after the death\\xa0of Bibron. We give here the revised nomenclature.\\n</p>\\n<p>\\n @@@\\n <hi rend=\"sup\">\\n  3\\n </hi>\\n The latest parts were issued without date between 1876 and 1882.\\n</p>\\n<p>\\n @@@\\n <hi rend=\"sup\">\\n  4\\n </hi>\\n Chelonographia, oder Beschreibung einiger Schildkröten,\\n Lübeck,\\xa01782, 4to.\\n</p>\\n<p>\\n @@@\\n <hi rend=\"sup\">\\n  5\\n </hi>\\n Allgemeine Naturgeschichte der Schildkröten,\\n Leipsic, 1783, 8vo.\\n</p>\\n<p>\\n @@@\\n <hi rend=\"sup\">\\n  6\\n </hi>\\n Historia TestuAinum iconibus illustrata,\\n Erlangen, 1792-1801,\\n</p>\\n<p>\\n 4to (left incomplete by the death of the author).\\n</p>\\n<p>\\n @@@\\n <hi rend=\"sup\">\\n  7\\n </hi>\\n Prodromi Monographise Cheloniorum sect, la et 2a,\\n Königsberg, 1814, 8vo.\\n</p>\\n']"
      ]
     },
     "execution_count": 26,
     "metadata": {},
     "output_type": "execute_result"
    }
   ],
   "source": [
    "listref"
   ]
  },
  {
   "cell_type": "code",
   "execution_count": 27,
   "metadata": {
    "collapsed": false
   },
   "outputs": [
    {
     "data": {
      "text/plain": [
       "10"
      ]
     },
     "execution_count": 27,
     "metadata": {},
     "output_type": "execute_result"
    }
   ],
   "source": [
    "len(listref)"
   ]
  },
  {
   "cell_type": "code",
   "execution_count": 28,
   "metadata": {
    "collapsed": true
   },
   "outputs": [],
   "source": [
    "result = pattern1.match(page_09r2)"
   ]
  },
  {
   "cell_type": "code",
   "execution_count": 29,
   "metadata": {
    "collapsed": true
   },
   "outputs": [],
   "source": [
    "result"
   ]
  },
  {
   "cell_type": "code",
   "execution_count": 30,
   "metadata": {
    "collapsed": false
   },
   "outputs": [
    {
     "name": "stdout",
     "output_type": "stream",
     "text": [
      "None\n"
     ]
    }
   ],
   "source": [
    "print (result)"
   ]
  },
  {
   "cell_type": "code",
   "execution_count": null,
   "metadata": {
    "collapsed": true
   },
   "outputs": [],
   "source": []
  }
 ],
 "metadata": {
  "kernelspec": {
   "display_name": "Python [conda env:py3]",
   "language": "python",
   "name": "conda-env-py3-py"
  },
  "language_info": {
   "codemirror_mode": {
    "name": "ipython",
    "version": 3
   },
   "file_extension": ".py",
   "mimetype": "text/x-python",
   "name": "python",
   "nbconvert_exporter": "python",
   "pygments_lexer": "ipython3",
   "version": "3.6.2"
  }
 },
 "nbformat": 4,
 "nbformat_minor": 2
}
